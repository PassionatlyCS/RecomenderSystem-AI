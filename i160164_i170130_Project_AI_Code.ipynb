{
  "nbformat": 4,
  "nbformat_minor": 0,
  "metadata": {
    "colab": {
      "name": "Project_AI.ipynb",
      "provenance": [],
      "collapsed_sections": []
    },
    "kernelspec": {
      "name": "python3",
      "display_name": "Python 3"
    },
    "language_info": {
      "name": "python"
    },
    "accelerator": "GPU"
  },
  "cells": [
    {
      "cell_type": "code",
      "metadata": {
        "id": "De-s8MX9sloc"
      },
      "source": [
        "#---Implementation of the Project of Artificial Intelligence \n",
        "#--- i160164 - Usman Ali & i170130  - Abubakr Idrees\n",
        "#--- KNN with sparse matrix for item based recommendation\n",
        "\n",
        "#-- commenter link - https://colab.research.google.com/drive/1N_d-4gdUJGWrUTIVSFNpPV-8rAi-X0yf?usp=sharing\n",
        "\n",
        "import pandas as pd\n",
        "import numpy as np\n",
        "from scipy.sparse import csr_matrix\n",
        "from sklearn.neighbors import NearestNeighbors"
      ],
      "execution_count": 15,
      "outputs": []
    },
    {
      "cell_type": "markdown",
      "metadata": {
        "id": "li3IJTFUQc4v"
      },
      "source": [
        ""
      ]
    },
    {
      "cell_type": "code",
      "metadata": {
        "colab": {
          "base_uri": "https://localhost:8080/"
        },
        "id": "PnX3qbH8ssA7",
        "outputId": "04ad6a92-dccb-4e17-d34e-bdc51e396f7d"
      },
      "source": [
        "# Load the Drive helper and mount\n",
        "from google.colab import drive\n",
        "drive.mount('/content/drive')"
      ],
      "execution_count": 16,
      "outputs": [
        {
          "output_type": "stream",
          "text": [
            "Drive already mounted at /content/drive; to attempt to forcibly remount, call drive.mount(\"/content/drive\", force_remount=True).\n"
          ],
          "name": "stdout"
        }
      ]
    },
    {
      "cell_type": "code",
      "metadata": {
        "id": "LRwMXH_qtnH6"
      },
      "source": [
        "import pandas as pd \n",
        "r_cols = ['user_id', 'item_id', 'rating', 'timestamp']\n",
        "dataset = pd.read_csv('/content/drive/MyDrive/AI_Project/DataSet/u.data', sep='\\t', names=r_cols, encoding='latin-1')\n",
        "\n",
        "m_cols = ['item_id', 'title', 'release_date', 'video_release_date', 'imdb_url']\n",
        "movies = pd.read_csv('/content/drive/MyDrive/AI_Project/DataSet/u.item', sep='|', names=m_cols, usecols=range(5), encoding='latin-1')\n",
        "\n",
        "movies.drop(movies.columns[[3,4]], inplace = True, axis = 1 ) #to print titles than urls\n",
        "\n"
      ],
      "execution_count": 17,
      "outputs": []
    },
    {
      "cell_type": "code",
      "metadata": {
        "id": "UK-4L023tslP",
        "colab": {
          "base_uri": "https://localhost:8080/"
        },
        "outputId": "62a9baa9-2496-44e4-f75a-c8fb31d32961"
      },
      "source": [
        "n_users = dataset.user_id.unique().shape[0]\n",
        "n_items = dataset.item_id.unique().shape[0]\n",
        "n_items = dataset['item_id'].max()\n",
        "RatingMatrix = np.zeros((n_users,n_items))\n",
        "for line in dataset.itertuples():           #iterat over name tuples\n",
        "    RatingMatrix[line[1]-1,line[2]-1] = line[3]\n",
        "print(\"Original rating matrix : \",RatingMatrix)\n",
        "\n",
        "csr_sample = csr_matrix(RatingMatrix) #user to movie ratings\n",
        "#print(csr_sample) "
      ],
      "execution_count": 18,
      "outputs": [
        {
          "output_type": "stream",
          "text": [
            "Original rating matrix :  [[5. 3. 4. ... 0. 0. 0.]\n",
            " [4. 0. 0. ... 0. 0. 0.]\n",
            " [0. 0. 0. ... 0. 0. 0.]\n",
            " ...\n",
            " [5. 0. 0. ... 0. 0. 0.]\n",
            " [0. 0. 0. ... 0. 0. 0.]\n",
            " [0. 5. 0. ... 0. 0. 0.]]\n"
          ],
          "name": "stdout"
        }
      ]
    },
    {
      "cell_type": "code",
      "metadata": {
        "colab": {
          "base_uri": "https://localhost:8080/"
        },
        "id": "kxUibHestxgs",
        "outputId": "95b5d80e-1e8c-4783-84b8-5208ca56c098"
      },
      "source": [
        "knn = NearestNeighbors(metric='cosine', algorithm='brute', n_neighbors=3, n_jobs=-1)\n",
        "knn.fit(csr_sample)"
      ],
      "execution_count": 19,
      "outputs": [
        {
          "output_type": "execute_result",
          "data": {
            "text/plain": [
              "NearestNeighbors(algorithm='brute', leaf_size=30, metric='cosine',\n",
              "                 metric_params=None, n_jobs=-1, n_neighbors=3, p=2, radius=1.0)"
            ]
          },
          "metadata": {
            "tags": []
          },
          "execution_count": 19
        }
      ]
    },
    {
      "cell_type": "code",
      "metadata": {
        "colab": {
          "base_uri": "https://localhost:8080/"
        },
        "id": "NB_VbDaYuj_9",
        "outputId": "31dd3936-c8e8-4c50-fda0-7093a4423bd5"
      },
      "source": [
        "dataset_sort_des = dataset.sort_values(['user_id', 'timestamp'], ascending=[True, False])\n",
        "recommendation = dataset_sort_des[dataset_sort_des['user_id'] == 3].item_id\n",
        "recommendation = recommendation.tolist()\n",
        "recommendation = recommendation[:20]\n",
        "print(\"Items liked by user: \",recommendation)"
      ],
      "execution_count": 20,
      "outputs": [
        {
          "output_type": "stream",
          "text": [
            "Items liked by user:  [318, 320, 317, 181, 331, 328, 348, 327, 321, 260, 329, 347, 340, 346, 351, 330, 264, 338, 325, 335]\n"
          ],
          "name": "stdout"
        }
      ]
    },
    {
      "cell_type": "code",
      "metadata": {
        "colab": {
          "base_uri": "https://localhost:8080/"
        },
        "id": "AjRwvCQyt0X0",
        "outputId": "1958733e-f03d-4616-89f6-d0acbdcfbba8"
      },
      "source": [
        "distances1=[]\n",
        "ListTORecommend=[]\n",
        "for i in recommendation:\n",
        "  distances , indices = knn.kneighbors(csr_sample[i],n_neighbors=3)\n",
        "  indices = indices.flatten()\n",
        "  indices= indices[1:]\n",
        "  ListTORecommend.extend(indices)\n",
        "print(\"Items to be recommended: \",ListTORecommend)\n",
        "\n",
        "[movies.loc[movies['item_id'].isin(ListTORecommend)]]"
      ],
      "execution_count": 21,
      "outputs": [
        {
          "output_type": "stream",
          "text": [
            "Items to be recommended:  [919, 240, 17, 408, 193, 270, 702, 688, 221, 346, 833, 432, 517, 905, 787, 550, 709, 869, 509, 169, 377, 863, 937, 180, 510, 782, 221, 520, 420, 7, 5, 746, 758, 705, 560, 473, 649, 312, 475, 789]\n"
          ],
          "name": "stdout"
        },
        {
          "output_type": "execute_result",
          "data": {
            "text/plain": [
              "[     item_id                                              title release_date\n",
              " 4          5                                     Copycat (1995)  01-Jan-1995\n",
              " 6          7                              Twelve Monkeys (1995)  01-Jan-1995\n",
              " 16        17                         From Dusk Till Dawn (1996)  05-Feb-1996\n",
              " 168      169                         Wrong Trousers, The (1993)  01-Jan-1993\n",
              " 179      180                              Apocalypse Now (1979)  01-Jan-1979\n",
              " 192      193                            Right Stuff, The (1983)  01-Jan-1983\n",
              " 220      221                          Breaking the Waves (1996)  15-Nov-1996\n",
              " 239      240             Beavis and Butt-head Do America (1996)  20-Dec-1996\n",
              " 269      270                                     Gattaca (1997)  01-Jan-1997\n",
              " 311      312     Midnight in the Garden of Good and Evil (1997)  01-Jan-1997\n",
              " 345      346                                Jackie Brown (1997)  01-Jan-1997\n",
              " 376      377                                Heavyweights (1994)  01-Jan-1994\n",
              " 407      408                              Close Shave, A (1995)  28-Apr-1996\n",
              " 419      420                         Alice in Wonderland (1951)  01-Jan-1951\n",
              " 431      432                                    Fantasia (1940)  01-Jan-1940\n",
              " 472      473                   James and the Giant Peach (1996)  12-Apr-1996\n",
              " 474      475                               Trainspotting (1996)  19-Jul-1996\n",
              " 508      509                                My Left Foot (1989)  01-Jan-1989\n",
              " 509      510                      Magnificent Seven, The (1954)  01-Jan-1954\n",
              " 516      517                                   Manhattan (1979)  01-Jan-1979\n",
              " 519      520                           Great Escape, The (1963)  01-Jan-1963\n",
              " 549      550                  Die Hard: With a Vengeance (1995)  01-Jan-1995\n",
              " 559      560               Kid in King Arthur's Court, A (1995)  01-Jan-1995\n",
              " 648      649                 Once Upon a Time in America (1984)  01-Jan-1984\n",
              " 687      688                          Leave It to Beaver (1997)  22-Aug-1997\n",
              " 701      702                                   Barcelona (1994)  01-Jan-1994\n",
              " 704      705                         Singin' in the Rain (1952)  01-Jan-1952\n",
              " 708      709                           Strictly Ballroom (1992)  01-Jan-1992\n",
              " 745      746                                 Real Genius (1985)  01-Jan-1985\n",
              " 757      758          Lawnmower Man 2: Beyond Cyberspace (1996)  01-Jan-1996\n",
              " 781      782                               Little Odessa (1994)  01-Jan-1994\n",
              " 786      787                                   Roommates (1995)  01-Jan-1995\n",
              " 788      789                        Swimming with Sharks (1995)  01-Jan-1995\n",
              " 832      833                                 Bulletproof (1996)  06-Sep-1996\n",
              " 862      863  Garden of Finzi-Contini, The (Giardino dei Fin...  08-Nov-1996\n",
              " 868      869                               Fools Rush In (1997)  14-Feb-1997\n",
              " 904      905                          Great Expectations (1998)  01-Jan-1998\n",
              " 918      919                  City of Lost Children, The (1995)  01-Jan-1995\n",
              " 936      937                           Thousand Acres, A (1997)  01-Jan-1997]"
            ]
          },
          "metadata": {
            "tags": []
          },
          "execution_count": 21
        }
      ]
    }
  ]
}